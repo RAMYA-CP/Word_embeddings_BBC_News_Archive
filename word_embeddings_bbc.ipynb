{
  "nbformat": 4,
  "nbformat_minor": 0,
  "metadata": {
    "accelerator": "GPU",
    "colab": {
      "name": "IBM",
      "provenance": [],
      "toc_visible": true
    },
    "kernelspec": {
      "display_name": "Python 3",
      "name": "python3"
    }
  },
  "cells": [
    {
      "cell_type": "code",
      "metadata": {
        "colab_type": "code",
        "id": "gnwiOnGyW5JK",
        "colab": {
          "base_uri": "https://localhost:8080/",
          "height": 204
        },
        "outputId": "7e0a8b56-b3ab-4248-c342-b3bb3ba7b675"
      },
      "source": [
        "import csv\n",
        "import tensorflow as tf\n",
        "import numpy as np\n",
        "from tensorflow.keras.preprocessing.text import Tokenizer\n",
        "from tensorflow.keras.preprocessing.sequence import pad_sequences\n",
        "\n",
        "!wget --no-check-certificate \\\n",
        "    https://storage.googleapis.com/laurencemoroney-blog.appspot.com/bbc-text.csv \\\n",
        "    -O /tmp/bbc-text.csv"
      ],
      "execution_count": 2,
      "outputs": [
        {
          "output_type": "stream",
          "text": [
            "--2020-07-13 12:11:01--  https://storage.googleapis.com/laurencemoroney-blog.appspot.com/bbc-text.csv\n",
            "Resolving storage.googleapis.com (storage.googleapis.com)... 66.102.1.128, 172.253.120.128, 64.233.166.128, ...\n",
            "Connecting to storage.googleapis.com (storage.googleapis.com)|66.102.1.128|:443... connected.\n",
            "HTTP request sent, awaiting response... 200 OK\n",
            "Length: 5057493 (4.8M) [application/octet-stream]\n",
            "Saving to: ‘/tmp/bbc-text.csv’\n",
            "\n",
            "\r/tmp/bbc-text.csv     0%[                    ]       0  --.-KB/s               \r/tmp/bbc-text.csv   100%[===================>]   4.82M  --.-KB/s    in 0.07s   \n",
            "\n",
            "2020-07-13 12:11:02 (69.9 MB/s) - ‘/tmp/bbc-text.csv’ saved [5057493/5057493]\n",
            "\n"
          ],
          "name": "stdout"
        }
      ]
    },
    {
      "cell_type": "code",
      "metadata": {
        "colab_type": "code",
        "id": "EYo6A4v5ZABQ",
        "colab": {}
      },
      "source": [
        "vocab_size = 10000\n",
        "embedding_dim = 16\n",
        "max_length = 100\n",
        "trunc_type ='post'\n",
        "padding_type ='post'\n",
        "oov_tok = \"<OOV>\"\n",
        "training_portion = .8"
      ],
      "execution_count": 3,
      "outputs": []
    },
    {
      "cell_type": "code",
      "metadata": {
        "colab_type": "code",
        "id": "iU1qq3_SZBx_",
        "colab": {
          "base_uri": "https://localhost:8080/",
          "height": 34
        },
        "outputId": "9f7a39e7-c6f7-4db7-dcec-eace95e22f8a"
      },
      "source": [
        "sentences = []\n",
        "labels = []\n",
        "stopwords = [ \"a\", \"about\", \"above\", \"after\", \"again\", \"against\", \"all\", \"am\", \"an\", \"and\", \"any\", \"are\", \"as\", \"at\", \"be\", \"because\", \"been\", \"before\", \"being\", \"below\", \"between\", \"both\", \"but\", \"by\", \"could\", \"did\", \"do\", \"does\", \"doing\", \"down\", \"during\", \"each\", \"few\", \"for\", \"from\", \"further\", \"had\", \"has\", \"have\", \"having\", \"he\", \"he'd\", \"he'll\", \"he's\", \"her\", \"here\", \"here's\", \"hers\", \"herself\", \"him\", \"himself\", \"his\", \"how\", \"how's\", \"i\", \"i'd\", \"i'll\", \"i'm\", \"i've\", \"if\", \"in\", \"into\", \"is\", \"it\", \"it's\", \"its\", \"itself\", \"let's\", \"me\", \"more\", \"most\", \"my\", \"myself\", \"nor\", \"of\", \"on\", \"once\", \"only\", \"or\", \"other\", \"ought\", \"our\", \"ours\", \"ourselves\", \"out\", \"over\", \"own\", \"same\", \"she\", \"she'd\", \"she'll\", \"she's\", \"should\", \"so\", \"some\", \"such\", \"than\", \"that\", \"that's\", \"the\", \"their\", \"theirs\", \"them\", \"themselves\", \"then\", \"there\", \"there's\", \"these\", \"they\", \"they'd\", \"they'll\", \"they're\", \"they've\", \"this\", \"those\", \"through\", \"to\", \"too\", \"under\", \"until\", \"up\", \"very\", \"was\", \"we\", \"we'd\", \"we'll\", \"we're\", \"we've\", \"were\", \"what\", \"what's\", \"when\", \"when's\", \"where\", \"where's\", \"which\", \"while\", \"who\", \"who's\", \"whom\", \"why\", \"why's\", \"with\", \"would\", \"you\", \"you'd\", \"you'll\", \"you're\", \"you've\", \"your\", \"yours\", \"yourself\", \"yourselves\" ]\n",
        "print(len(stopwords))"
      ],
      "execution_count": 4,
      "outputs": [
        {
          "output_type": "stream",
          "text": [
            "153\n"
          ],
          "name": "stdout"
        }
      ]
    },
    {
      "cell_type": "code",
      "metadata": {
        "colab_type": "code",
        "id": "eutB2xMiZD0e",
        "colab": {
          "base_uri": "https://localhost:8080/",
          "height": 88
        },
        "outputId": "2333d237-9221-4d35-8066-87b3fb50bd9e"
      },
      "source": [
        "with open(\"/tmp/bbc-text.csv\", 'r') as csvfile:\n",
        "    d=csv.reader(csvfile)\n",
        "    for i in d:\n",
        "      sentences.append(i[1])\n",
        "      labels.append(i[0])\n",
        "for i in sentences:\n",
        "  k=i.split()\n",
        "  for j in k:\n",
        "    if j in stopwords:\n",
        "      k.remove(j)\n",
        "  sentences[sentences.index(i)]=' '.join(i for i in k)\n",
        "labels.pop(0)\n",
        "sentences.pop(0)\n",
        "print(len(labels))\n",
        "print(len(sentences))\n",
        "print(sentences[0])"
      ],
      "execution_count": 5,
      "outputs": [
        {
          "output_type": "stream",
          "text": [
            "2225\n",
            "2225\n",
            "tv future hands viewers home theatre systems plasma high-definition tvs digital video recorders moving living room way people watch tv will radically different five years time. according an expert panel gathered annual consumer electronics show las vegas discuss new technologies will impact one our favourite pastimes. us leading trend programmes content will delivered viewers via home networks cable satellite telecoms companies broadband service providers front rooms portable devices. one talked-about technologies ces been digital personal video recorders (dvr pvr). these set-top boxes like us s tivo uk s sky+ system allow people record store play pause forward wind tv programmes want. essentially technology allows much personalised tv. also built-in high-definition tv sets big business japan us slower take off europe lack high-definition programming. not can people forward wind adverts can also forget abiding network channel schedules putting together own a-la-carte entertainment. some us networks cable satellite companies worried means them terms advertising revenues well brand identity viewer loyalty channels. although us leads technology moment also concern raised europe particularly growing uptake services like sky+. happens today will see nine months years time uk adam hume bbc broadcast s futurologist told bbc news website. likes bbc no issues lost advertising revenue yet. pressing issue the moment commercial uk broadcasters brand loyalty important everyone. will talking more about content brands rather network brands said tim hanlon brand communications firm starcom mediavest. the reality broadband connections anybody can the producer content. added: the challenge now is that is hard promote programme much choice. this means said stacey jolna senior vice president tv guide tv group is that the way people find the content want watch simplified tv viewers. means that networks us terms channels take leaf google s book be the search engine the future instead the scheduler help people find want watch. this kind channel model might work the younger ipod generation is used taking control their gadgets play them. it might not suit everyone the panel recognised. older generations more comfortable familiar schedules channel brands they know what they are getting. they perhaps not want much the choice put their hands mr hanlon suggested. the other end the kids just diapers are pushing buttons already - everything is possible available them said mr hanlon. ultimately the consumer will tell the market they want. the 50 000 new gadgets technologies showcased ces many them are about enhancing the tv-watching experience. high-definition tv sets are everywhere many new models lcd (liquid crystal display) tvs have been launched dvr capability built them instead being external boxes. one example launched the show is humax s 26-inch lcd tv an 80-hour tivo dvr dvd recorder. one of the us s biggest satellite tv companies directtv even launched own branded dvr the show 100-hours of recording capability instant replay a search function. the set can pause rewind tv to 90 hours. microsoft chief bill gates announced his pre-show keynote speech a partnership tivo called tivotogo means people can play recorded programmes windows pcs mobile devices. these reflect the increasing trend of freeing up multimedia so that people can watch what they want they want.\n"
          ],
          "name": "stdout"
        }
      ]
    },
    {
      "cell_type": "code",
      "metadata": {
        "colab_type": "code",
        "id": "XfdaWh06ZGe3",
        "colab": {
          "base_uri": "https://localhost:8080/",
          "height": 102
        },
        "outputId": "87c8a037-d3a1-4ed7-e586-99ef1849a3c9"
      },
      "source": [
        "train_size = 1780\n",
        "\n",
        "train_sentences = sentences[:train_size]\n",
        "train_labels = labels[:train_size]\n",
        "validation_sentences = sentences[train_size:]\n",
        "validation_labels =labels[train_size:]\n",
        "\n",
        "print(train_size)\n",
        "print(len(train_sentences))\n",
        "print(len(train_labels))\n",
        "print(len(validation_sentences))\n",
        "print(len(validation_labels))"
      ],
      "execution_count": 6,
      "outputs": [
        {
          "output_type": "stream",
          "text": [
            "1780\n",
            "1780\n",
            "1780\n",
            "445\n",
            "445\n"
          ],
          "name": "stdout"
        }
      ]
    },
    {
      "cell_type": "code",
      "metadata": {
        "colab_type": "code",
        "id": "ULzA8xhwZI22",
        "colab": {
          "base_uri": "https://localhost:8080/",
          "height": 119
        },
        "outputId": "b02d42d3-1fa1-4332-9117-ebcde6ec7596"
      },
      "source": [
        "tokenizer = Tokenizer(oov_token=oov_tok,num_words=vocab_size)\n",
        "tokenizer.fit_on_texts(train_sentences)\n",
        "word_index = tokenizer.word_index\n",
        "\n",
        "train_sequences = tokenizer.texts_to_sequences(train_sentences)\n",
        "train_padded = pad_sequences(train_sequences,padding=padding_type,truncating=trunc_type,maxlen=max_length)\n",
        "print(len(train_sequences[0]))\n",
        "print(len(train_padded[0]))\n",
        "\n",
        "print(len(train_sequences[1]))\n",
        "print(len(train_padded[1]))\n",
        "\n",
        "print(len(train_sequences[10]))\n",
        "print(len(train_padded[10]))"
      ],
      "execution_count": 7,
      "outputs": [
        {
          "output_type": "stream",
          "text": [
            "530\n",
            "100\n",
            "224\n",
            "100\n",
            "224\n",
            "100\n"
          ],
          "name": "stdout"
        }
      ]
    },
    {
      "cell_type": "code",
      "metadata": {
        "colab_type": "code",
        "id": "c8PeFWzPZLW_",
        "colab": {
          "base_uri": "https://localhost:8080/",
          "height": 51
        },
        "outputId": "363460ea-b4c6-4ac6-b5a2-d8f8aa7e4390"
      },
      "source": [
        "validation_sequences = tokenizer.texts_to_sequences(validation_sentences)\n",
        "validation_padded = pad_sequences(validation_sequences,padding=padding_type,truncating=trunc_type,maxlen=max_length)\n",
        "\n",
        "print(len(validation_sequences))\n",
        "print(validation_padded.shape)"
      ],
      "execution_count": 8,
      "outputs": [
        {
          "output_type": "stream",
          "text": [
            "445\n",
            "(445, 100)\n"
          ],
          "name": "stdout"
        }
      ]
    },
    {
      "cell_type": "code",
      "metadata": {
        "colab_type": "code",
        "id": "XkWiQ_FKZNp2",
        "colab": {
          "base_uri": "https://localhost:8080/",
          "height": 153
        },
        "outputId": "217984ff-7582-47c3-91a3-b4a47853a0fc"
      },
      "source": [
        "label_tokenizer = Tokenizer(num_words=vocab_size)\n",
        "label_tokenizer.fit_on_texts(train_labels)\n",
        "\n",
        "training_label_seq = label_tokenizer.texts_to_sequences(train_labels)\n",
        "validation_label_seq = label_tokenizer.texts_to_sequences(validation_labels)\n",
        "validation_label_seq=np.array(validation_label_seq)\n",
        "training_label_seq=np.array(training_label_seq)\n",
        "print(training_label_seq[0])\n",
        "print(training_label_seq[1])\n",
        "print(training_label_seq[2])\n",
        "print(training_label_seq.shape)\n",
        "\n",
        "print(validation_label_seq[0])\n",
        "print(validation_label_seq[1])\n",
        "print(validation_label_seq[2])\n",
        "print(validation_label_seq.shape)\n",
        "train_padded = np.array(train_padded)\n",
        "validation_padded = np.array(validation_padded)"
      ],
      "execution_count": 9,
      "outputs": [
        {
          "output_type": "stream",
          "text": [
            "[5]\n",
            "[2]\n",
            "[1]\n",
            "(1780, 1)\n",
            "[4]\n",
            "[5]\n",
            "[3]\n",
            "(445, 1)\n"
          ],
          "name": "stdout"
        }
      ]
    },
    {
      "cell_type": "code",
      "metadata": {
        "colab_type": "code",
        "id": "HZ5um4MWZP-W",
        "colab": {
          "base_uri": "https://localhost:8080/",
          "height": 289
        },
        "outputId": "c5194467-b99d-4236-ecc1-1d95f3b0a632"
      },
      "source": [
        "model = tf.keras.Sequential([\n",
        "    tf.keras.layers.Embedding(vocab_size, embedding_dim, input_length=max_length),\n",
        "    tf.keras.layers.GlobalAveragePooling1D(),\n",
        "    tf.keras.layers.Dense(24, activation='relu'),\n",
        "    tf.keras.layers.Dense(6, activation='sigmoid')\n",
        "])\n",
        "model.compile(loss='sparse_categorical_crossentropy',optimizer='adam',metrics=['accuracy'])\n",
        "model.summary()"
      ],
      "execution_count": 10,
      "outputs": [
        {
          "output_type": "stream",
          "text": [
            "Model: \"sequential\"\n",
            "_________________________________________________________________\n",
            "Layer (type)                 Output Shape              Param #   \n",
            "=================================================================\n",
            "embedding (Embedding)        (None, 100, 16)           160000    \n",
            "_________________________________________________________________\n",
            "global_average_pooling1d (Gl (None, 16)                0         \n",
            "_________________________________________________________________\n",
            "dense (Dense)                (None, 24)                408       \n",
            "_________________________________________________________________\n",
            "dense_1 (Dense)              (None, 6)                 150       \n",
            "=================================================================\n",
            "Total params: 160,558\n",
            "Trainable params: 160,558\n",
            "Non-trainable params: 0\n",
            "_________________________________________________________________\n"
          ],
          "name": "stdout"
        }
      ]
    },
    {
      "cell_type": "code",
      "metadata": {
        "colab_type": "code",
        "id": "XsfdxySKZSXu",
        "colab": {
          "base_uri": "https://localhost:8080/",
          "height": 1000
        },
        "outputId": "71db73f6-cc97-4c9a-862d-f8b5c25fa859"
      },
      "source": [
        "num_epochs = 30\n",
        "history = model.fit(train_padded, training_label_seq, epochs=num_epochs, validation_data=(validation_padded, validation_label_seq), verbose=2)"
      ],
      "execution_count": 11,
      "outputs": [
        {
          "output_type": "stream",
          "text": [
            "Epoch 1/30\n",
            "56/56 - 1s - loss: 1.7744 - accuracy: 0.3809 - val_loss: 1.7473 - val_accuracy: 0.4607\n",
            "Epoch 2/30\n",
            "56/56 - 0s - loss: 1.7021 - accuracy: 0.4551 - val_loss: 1.6515 - val_accuracy: 0.4539\n",
            "Epoch 3/30\n",
            "56/56 - 0s - loss: 1.5674 - accuracy: 0.4551 - val_loss: 1.4954 - val_accuracy: 0.4562\n",
            "Epoch 4/30\n",
            "56/56 - 0s - loss: 1.3704 - accuracy: 0.4742 - val_loss: 1.2915 - val_accuracy: 0.4674\n",
            "Epoch 5/30\n",
            "56/56 - 0s - loss: 1.1402 - accuracy: 0.5056 - val_loss: 1.0743 - val_accuracy: 0.5258\n",
            "Epoch 6/30\n",
            "56/56 - 0s - loss: 0.9177 - accuracy: 0.6039 - val_loss: 0.8776 - val_accuracy: 0.5933\n",
            "Epoch 7/30\n",
            "56/56 - 0s - loss: 0.6995 - accuracy: 0.6601 - val_loss: 0.7048 - val_accuracy: 0.6876\n",
            "Epoch 8/30\n",
            "56/56 - 0s - loss: 0.5086 - accuracy: 0.7837 - val_loss: 0.5635 - val_accuracy: 0.7685\n",
            "Epoch 9/30\n",
            "56/56 - 0s - loss: 0.3680 - accuracy: 0.8062 - val_loss: 0.4629 - val_accuracy: 0.7708\n",
            "Epoch 10/30\n",
            "56/56 - 0s - loss: 0.2793 - accuracy: 0.8140 - val_loss: 0.4019 - val_accuracy: 0.7820\n",
            "Epoch 11/30\n",
            "56/56 - 0s - loss: 0.2285 - accuracy: 0.8388 - val_loss: 0.3644 - val_accuracy: 0.8315\n",
            "Epoch 12/30\n",
            "56/56 - 0s - loss: 0.1971 - accuracy: 0.9079 - val_loss: 0.3388 - val_accuracy: 0.8607\n",
            "Epoch 13/30\n",
            "56/56 - 0s - loss: 0.1746 - accuracy: 0.9607 - val_loss: 0.3140 - val_accuracy: 0.8944\n",
            "Epoch 14/30\n",
            "56/56 - 0s - loss: 0.1501 - accuracy: 0.9944 - val_loss: 0.2801 - val_accuracy: 0.9236\n",
            "Epoch 15/30\n",
            "56/56 - 0s - loss: 0.1023 - accuracy: 0.9989 - val_loss: 0.2335 - val_accuracy: 0.9371\n",
            "Epoch 16/30\n",
            "56/56 - 0s - loss: 0.0564 - accuracy: 0.9994 - val_loss: 0.2062 - val_accuracy: 0.9416\n",
            "Epoch 17/30\n",
            "56/56 - 0s - loss: 0.0379 - accuracy: 1.0000 - val_loss: 0.1908 - val_accuracy: 0.9393\n",
            "Epoch 18/30\n",
            "56/56 - 0s - loss: 0.0282 - accuracy: 1.0000 - val_loss: 0.1835 - val_accuracy: 0.9438\n",
            "Epoch 19/30\n",
            "56/56 - 0s - loss: 0.0220 - accuracy: 1.0000 - val_loss: 0.1782 - val_accuracy: 0.9506\n",
            "Epoch 20/30\n",
            "56/56 - 0s - loss: 0.0178 - accuracy: 1.0000 - val_loss: 0.1739 - val_accuracy: 0.9483\n",
            "Epoch 21/30\n",
            "56/56 - 0s - loss: 0.0144 - accuracy: 1.0000 - val_loss: 0.1710 - val_accuracy: 0.9483\n",
            "Epoch 22/30\n",
            "56/56 - 0s - loss: 0.0116 - accuracy: 1.0000 - val_loss: 0.1689 - val_accuracy: 0.9483\n",
            "Epoch 23/30\n",
            "56/56 - 0s - loss: 0.0094 - accuracy: 1.0000 - val_loss: 0.1683 - val_accuracy: 0.9483\n",
            "Epoch 24/30\n",
            "56/56 - 0s - loss: 0.0078 - accuracy: 1.0000 - val_loss: 0.1671 - val_accuracy: 0.9506\n",
            "Epoch 25/30\n",
            "56/56 - 0s - loss: 0.0066 - accuracy: 1.0000 - val_loss: 0.1667 - val_accuracy: 0.9506\n",
            "Epoch 26/30\n",
            "56/56 - 0s - loss: 0.0057 - accuracy: 1.0000 - val_loss: 0.1667 - val_accuracy: 0.9506\n",
            "Epoch 27/30\n",
            "56/56 - 0s - loss: 0.0050 - accuracy: 1.0000 - val_loss: 0.1667 - val_accuracy: 0.9506\n",
            "Epoch 28/30\n",
            "56/56 - 0s - loss: 0.0044 - accuracy: 1.0000 - val_loss: 0.1670 - val_accuracy: 0.9506\n",
            "Epoch 29/30\n",
            "56/56 - 0s - loss: 0.0039 - accuracy: 1.0000 - val_loss: 0.1670 - val_accuracy: 0.9506\n",
            "Epoch 30/30\n",
            "56/56 - 0s - loss: 0.0035 - accuracy: 1.0000 - val_loss: 0.1680 - val_accuracy: 0.9506\n"
          ],
          "name": "stdout"
        }
      ]
    },
    {
      "cell_type": "code",
      "metadata": {
        "colab_type": "code",
        "id": "dQ0BX2apXS9u",
        "colab": {
          "base_uri": "https://localhost:8080/",
          "height": 541
        },
        "outputId": "f60af1bc-af47-4467-a6e1-0c0abe6521bd"
      },
      "source": [
        "import matplotlib.pyplot as plt\n",
        "\n",
        "\n",
        "def plot_graphs(history, string):\n",
        "  plt.plot(history.history[string])\n",
        "  plt.plot(history.history['val_'+string])\n",
        "  plt.xlabel(\"Epochs\")\n",
        "  plt.ylabel(string)\n",
        "  plt.legend([string, 'val_'+string])\n",
        "  plt.show()\n",
        "  \n",
        "plot_graphs(history, \"accuracy\")\n",
        "plot_graphs(history, \"loss\")"
      ],
      "execution_count": 12,
      "outputs": [
        {
          "output_type": "display_data",
          "data": {
            "image/png": "[encoded data removed]",
            "text/plain": [
              "<Figure size 432x288 with 1 Axes>"
            ]
          },
          "metadata": {
            "tags": [],
            "needs_background": "light"
          }
        },
        {
          "output_type": "display_data",
          "data": {
            "image/png": "[encoded data removed]",
            "text/plain": [
              "<Figure size 432x288 with 1 Axes>"
            ]
          },
          "metadata": {
            "tags": [],
            "needs_background": "light"
          }
        }
      ]
    },
    {
      "cell_type": "code",
      "metadata": {
        "colab_type": "code",
        "id": "w7Xc-uWxXhML",
        "colab": {}
      },
      "source": [
        "reverse_word_index = dict([(value, key) for (key, value) in word_index.items()])\n",
        "\n",
        "def decode_sentence(text):\n",
        "    return ' '.join([reverse_word_index.get(i, '?') for i in text])\n"
      ],
      "execution_count": 13,
      "outputs": []
    },
    {
      "cell_type": "code",
      "metadata": {
        "colab_type": "code",
        "id": "OhnFA_TDXrih",
        "colab": {
          "base_uri": "https://localhost:8080/",
          "height": 34
        },
        "outputId": "84c4aafd-0d3f-4466-9896-989bdcde841f"
      },
      "source": [
        "e = model.layers[0]\n",
        "weights = e.get_weights()[0]\n",
        "print(weights.shape)"
      ],
      "execution_count": 14,
      "outputs": [
        {
          "output_type": "stream",
          "text": [
            "(10000, 16)\n"
          ],
          "name": "stdout"
        }
      ]
    },
    {
      "cell_type": "code",
      "metadata": {
        "colab_type": "code",
        "id": "_POzcWWAXudL",
        "colab": {}
      },
      "source": [
        "import io\n",
        "\n",
        "out_v = io.open('vecs.tsv', 'w', encoding='utf-8')\n",
        "out_m = io.open('meta.tsv', 'w', encoding='utf-8')\n",
        "for word_num in range(1, vocab_size):\n",
        "  word = reverse_word_index[word_num]\n",
        "  embeddings = weights[word_num]\n",
        "  out_m.write(word + \"\\n\")\n",
        "  out_v.write('\\t'.join([str(x) for x in embeddings]) + \"\\n\")\n",
        "out_v.close()\n",
        "out_m.close()"
      ],
      "execution_count": 15,
      "outputs": []
    },
    {
      "cell_type": "code",
      "metadata": {
        "id": "T4taLyOpITFo",
        "colab_type": "code",
        "colab": {
          "base_uri": "https://localhost:8080/",
          "height": 34
        },
        "outputId": "daa1da6b-e582-46aa-f9c1-dfb292afe3f5"
      },
      "source": [
        "sentence = [\"game of thrones season finale showing this sunday night\"]\n",
        "sequences = tokenizer.texts_to_sequences(sentence)\n",
        "padded = pad_sequences(sequences, maxlen=max_length, padding=padding_type, truncating=trunc_type)\n",
        "res=model.predict(padded)\n",
        "print(res)"
      ],
      "execution_count": 16,
      "outputs": [
        {
          "output_type": "stream",
          "text": [
            "[[0.00063829 0.01280654 0.00950762 0.01447147 0.00123687 0.00056631]]\n"
          ],
          "name": "stdout"
        }
      ]
    }
  ]
}